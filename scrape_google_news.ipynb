{
 "cells": [
  {
   "cell_type": "code",
   "execution_count": 2,
   "id": "70bfe48f-8ecb-475d-888f-004b84bb57c0",
   "metadata": {},
   "outputs": [],
   "source": [
    "\n",
    "response = requests.get('https://news.google.com/')"
   ]
  },
  {
   "cell_type": "code",
   "execution_count": 4,
   "id": "ff49de87-cb67-4e36-afb3-09eb707b57ad",
   "metadata": {},
   "outputs": [],
   "source": [
    "soup = BeautifulSoup(response.text, 'html.parser')"
   ]
  },
  {
   "cell_type": "code",
   "execution_count": 16,
   "id": "601c6174-2e31-4886-9e9e-925d3d603526",
   "metadata": {},
   "outputs": [],
   "source": [
    "headlines = soup.find_all(\"a\", class_=\"WwrzSb\")"
   ]
  },
  {
   "cell_type": "code",
   "execution_count": 15,
   "id": "9cc0c76f-3d5e-46e5-8b18-68adff61a125",
   "metadata": {},
   "outputs": [
    {
     "name": "stdout",
     "output_type": "stream",
     "text": [
      "U.S. airports rumble back to life after FAA computer outage\n",
      "All Flights 'Grounded Across US' After System Failure | Glitch In US Flight Operations | USA News\n",
      "FAA lifts airline ground stop as flight delays, cancellations pile up across the country\n",
      "US flights grounded due to FAA systems outage\n",
      "California storms – live: Flash flood warning in San Francisco after Montecito and Santa Barbara evacuations\n",
      "At least 17 dead in California from monster storms\n",
      "California Storm: Evacuations Ordered as Mudslide and Flood Risks Grow\n",
      "California storms: 17 confirmed deaths related to severe storms | LiveNOW from FOX\n",
      "Russia Claims Success in Ukraine's Soledar, Its First Advance in Months\n",
      "Biden's classified documents issue adds to House Republicans' growing list of investigations\n"
     ]
    }
   ],
   "source": [
    "for headline in headlines:\n",
    "    print(headline.get(\"aria-label\"))"
   ]
  },
  {
   "cell_type": "code",
   "execution_count": 87,
   "id": "da59b553-10e7-43a3-beca-fa8ce38641d9",
   "metadata": {},
   "outputs": [],
   "source": [
    "import requests\n",
    "from bs4 import BeautifulSoup\n",
    "import pandas as pd\n",
    "import re\n",
    "from datetime import datetime"
   ]
  },
  {
   "cell_type": "code",
   "execution_count": 79,
   "id": "36372bfd-15c5-45be-886b-90f0bc84822e",
   "metadata": {},
   "outputs": [],
   "source": [
    "response = requests.get('https://news.google.com/topics/CAAqIggKIhxDQkFTRHdvSkwyMHZNRGxqTjNjd0VnSmxiaWdBUAE?hl=en-US&gl=US&ceid=US%3Aen')"
   ]
  },
  {
   "cell_type": "code",
   "execution_count": 81,
   "id": "96cec808-aefe-4bb6-8ffd-5e1a85e50d42",
   "metadata": {},
   "outputs": [],
   "source": [
    "soup = BeautifulSoup(response.text, 'html.parser')\n",
    "headlines = soup.find_all(\"a\", class_=\"WwrzSb\")\n",
    "datetimes = soup.find_all(\"time\", class_=\"hvbAAd\")\n",
    "publishers = soup.find_all(\"span\", class_=\"vr1PYe\")"
   ]
  },
  {
   "cell_type": "code",
   "execution_count": 83,
   "id": "a0be0e5d-8c46-4a51-979f-08aa2bde22af",
   "metadata": {},
   "outputs": [],
   "source": [
    "HL = []\n",
    "DATE = []\n",
    "TIME = []\n",
    "URL = []\n",
    "PB = []\n",
    "for i in range(len(datetimes)):\n",
    "    DT.append(datetimes[i].get(\"datetime\"))\n",
    "    HL.append(headlines[i].get(\"aria-label\"))\n",
    "    URL.append(\"https://news.google.com/\"+headlines[i].get(\"href\"))\n",
    "    PB.append(publishers[i].get_text())\n",
    "    DATE.append(re.match(\"^([^T]+)\", datetimes[i].get(\"datetime\")).group(0))\n",
    "    TIME.append(re.search(r'(?<=T)(.*)(?=Z)', datetimes[i].get(\"datetime\")).group(1))\n",
    "    "
   ]
  },
  {
   "cell_type": "code",
   "execution_count": 84,
   "id": "272c1871-1f3b-44b8-a8b8-cc331c304948",
   "metadata": {},
   "outputs": [],
   "source": [
    "data = pd.DataFrame({\"Headline\": HL, \"Date\": DATE, \"Time\": TIME, \"link\": URL, \"Publisher\": PB})"
   ]
  },
  {
   "cell_type": "code",
   "execution_count": 90,
   "id": "ed2c75c1-bf4b-4331-bcfb-41318dc3ba5a",
   "metadata": {},
   "outputs": [],
   "source": [
    "data.to_csv(str(datetime.today().date())+\"_data.csv\")"
   ]
  }
 ],
 "metadata": {
  "kernelspec": {
   "display_name": "Python 3",
   "language": "python",
   "name": "python3"
  },
  "language_info": {
   "codemirror_mode": {
    "name": "ipython",
    "version": 3
   },
   "file_extension": ".py",
   "mimetype": "text/x-python",
   "name": "python",
   "nbconvert_exporter": "python",
   "pygments_lexer": "ipython3",
   "version": "3.9.15"
  }
 },
 "nbformat": 4,
 "nbformat_minor": 5
}
