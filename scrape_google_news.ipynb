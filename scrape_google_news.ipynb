{
 "cells": [
  {
   "cell_type": "code",
   "execution_count": 31,
   "id": "da59b553-10e7-43a3-beca-fa8ce38641d9",
   "metadata": {},
   "outputs": [],
   "source": [
    "import requests\n",
    "from bs4 import BeautifulSoup\n",
    "import pandas as pd\n",
    "import re\n",
    "from datetime import datetime"
   ]
  },
  {
   "cell_type": "code",
   "execution_count": 32,
   "id": "606971b5-84bb-4b84-9950-d9f17352c644",
   "metadata": {},
   "outputs": [],
   "source": [
    "# scraping headlines under the US tab in google news"
   ]
  },
  {
   "cell_type": "code",
   "execution_count": 33,
   "id": "36372bfd-15c5-45be-886b-90f0bc84822e",
   "metadata": {},
   "outputs": [],
   "source": [
    "response = requests.get('https://news.google.com/topics/CAAqIggKIhxDQkFTRHdvSkwyMHZNRGxqTjNjd0VnSmxiaWdBUAE?hl=en-US&gl=US&ceid=US%3Aen')"
   ]
  },
  {
   "cell_type": "code",
   "execution_count": 34,
   "id": "96cec808-aefe-4bb6-8ffd-5e1a85e50d42",
   "metadata": {},
   "outputs": [],
   "source": [
    "soup = BeautifulSoup(response.text, 'html.parser')\n",
    "headlines = soup.find_all(\"a\", class_=\"WwrzSb\")\n",
    "datetimes = soup.find_all(\"time\", class_=\"hvbAAd\")\n",
    "publishers = soup.find_all(\"span\", class_=\"vr1PYe\")"
   ]
  },
  {
   "cell_type": "code",
   "execution_count": 35,
   "id": "a0be0e5d-8c46-4a51-979f-08aa2bde22af",
   "metadata": {},
   "outputs": [],
   "source": [
    "HL = []\n",
    "DATE = []\n",
    "TIME = []\n",
    "URL = []\n",
    "PB = []\n",
    "for i in range(len(datetimes)):\n",
    "    HL.append(headlines[i].get(\"aria-label\"))\n",
    "    URL.append(\"https://news.google.com/\"+headlines[i].get(\"href\"))\n",
    "    PB.append(publishers[i].get_text())\n",
    "    DATE.append(re.match(\"^([^T]+)\", datetimes[i].get(\"datetime\")).group(0))\n",
    "    TIME.append(re.search(r'(?<=T)(.*)(?=Z)', datetimes[i].get(\"datetime\")).group(1))\n",
    "    "
   ]
  },
  {
   "cell_type": "code",
   "execution_count": 36,
   "id": "272c1871-1f3b-44b8-a8b8-cc331c304948",
   "metadata": {},
   "outputs": [],
   "source": [
    "data = pd.DataFrame({\"Headline\": HL, \"Date\": DATE, \"Time\": TIME, \"link\": URL, \"Publisher\": PB})"
   ]
  },
  {
   "cell_type": "code",
   "execution_count": 37,
   "id": "ed2c75c1-bf4b-4331-bcfb-41318dc3ba5a",
   "metadata": {},
   "outputs": [],
   "source": [
    "data.to_csv(str(datetime.today().date())+\"_USdata.csv\") "
   ]
  },
  {
   "cell_type": "code",
   "execution_count": 38,
   "id": "afdbf226-b942-413d-a3b6-c9c75e919642",
   "metadata": {},
   "outputs": [],
   "source": [
    "# scraping headlines from search results"
   ]
  },
  {
   "cell_type": "code",
   "execution_count": 39,
   "id": "08e309c5-5e80-4364-a753-21528ec0bf51",
   "metadata": {},
   "outputs": [],
   "source": [
    "response = requests.get(\"https://news.google.com/search?q=data%20science&hl=en-US&gl=US&ceid=US%3Aen\")"
   ]
  },
  {
   "cell_type": "code",
   "execution_count": 40,
   "id": "17106484-2f72-41f1-a52e-2af15bba904e",
   "metadata": {},
   "outputs": [],
   "source": [
    "soup = BeautifulSoup(response.text, 'html.parser')\n",
    "headlines = soup.find_all(\"a\", class_=\"DY5T1d RZIKme\")\n",
    "datetimes = soup.find_all(\"time\", class_=\"WW6dff uQIVzc Sksgp slhocf\")\n",
    "publishers = soup.find_all(\"a\", class_=\"wEwyrc AVN2gc WfKKme\")"
   ]
  },
  {
   "cell_type": "code",
   "execution_count": 41,
   "id": "65e7f913-cc17-4744-953c-c3b2f4f78b1a",
   "metadata": {},
   "outputs": [],
   "source": [
    "HL = []\n",
    "DATE = []\n",
    "TIME = []\n",
    "URL = []\n",
    "PB = []\n",
    "for i in range(len(headlines)):\n",
    "    HL.append(headlines[i].get_text())\n",
    "    URL.append(headlines[i].get(\"href\"))\n",
    "    DATE.append(re.match(\"^([^T]+)\", datetimes[i].get(\"datetime\")).group(0))\n",
    "    TIME.append(re.search(r'(?<=T)(.*)(?=Z)', datetimes[i].get(\"datetime\")).group(1))\n",
    "    PB.append(publishers[i].get_text())"
   ]
  },
  {
   "cell_type": "code",
   "execution_count": 42,
   "id": "03a53da5-13de-4910-9a3c-a61e8853bf4c",
   "metadata": {},
   "outputs": [],
   "source": [
    "search_data = pd.DataFrame({\"Headline\": HL, \"Date\": DATE, \"Time\": TIME, \"link\": URL, \"Publisher\": PB})"
   ]
  },
  {
   "cell_type": "code",
   "execution_count": 43,
   "id": "d4d0a0eb-7a56-433d-b047-8372a84b9843",
   "metadata": {},
   "outputs": [],
   "source": [
    "search_data.to_csv(str(datetime.today().date())+\"_DSdata.csv\") "
   ]
  },
  {
   "cell_type": "code",
   "execution_count": null,
   "id": "03889db8-985f-4ce6-b10e-c21985187ed6",
   "metadata": {},
   "outputs": [],
   "source": []
  }
 ],
 "metadata": {
  "kernelspec": {
   "display_name": "Python 3",
   "language": "python",
   "name": "python3"
  },
  "language_info": {
   "codemirror_mode": {
    "name": "ipython",
    "version": 3
   },
   "file_extension": ".py",
   "mimetype": "text/x-python",
   "name": "python",
   "nbconvert_exporter": "python",
   "pygments_lexer": "ipython3",
   "version": "3.9.15"
  }
 },
 "nbformat": 4,
 "nbformat_minor": 5
}
